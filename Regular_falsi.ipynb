{
  "nbformat": 4,
  "nbformat_minor": 0,
  "metadata": {
    "colab": {
      "name": "Regular_falsi.ipynb",
      "provenance": [],
      "collapsed_sections": [],
      "authorship_tag": "ABX9TyO3V3lVVRsAf3O53U5y8sz4",
      "include_colab_link": true
    },
    "kernelspec": {
      "name": "python3",
      "display_name": "Python 3"
    },
    "language_info": {
      "name": "python"
    }
  },
  "cells": [
    {
      "cell_type": "markdown",
      "metadata": {
        "id": "view-in-github",
        "colab_type": "text"
      },
      "source": [
        "<a href=\"https://colab.research.google.com/github/Nawapat2541/Regular_falsi/blob/main/Regular_falsi.ipynb\" target=\"_parent\"><img src=\"https://colab.research.google.com/assets/colab-badge.svg\" alt=\"Open In Colab\"/></a>"
      ]
    },
    {
      "cell_type": "code",
      "metadata": {
        "id": "DqbU6PnGr9vP"
      },
      "source": [
        "def regular_falsi(func, a, b, tol, n_max):\n",
        "    def f(x):\n",
        "        f = eval(func)\n",
        "        return f\n",
        "    if a >= b or f(a) * f(b) >= 0:\n",
        "      print(\"No root for this equation.\")\n",
        "      exit()\n",
        "    \n",
        "    n = 1\n",
        "    side = 0\n",
        "    # starting values at endpoints of interval\n",
        "    fa = f(a)\n",
        "    fb = f(b)\n",
        "    interval = abs(b-a)\n",
        "\n",
        "    while True:\n",
        "\n",
        "      r = (fa * b - fb * a) / (fa - fb)\n",
        "\n",
        "      if abs(b - a) < tol * abs(b + a):\n",
        "         break\n",
        "\n",
        "      fr = f(r)\n",
        "\n",
        "      if fr * fb > 0:\n",
        "         # f(r) and f(t) have same sign, copy r to t\n",
        "         b = r\n",
        "         if side == -1:\n",
        "            fa = fa / 2\n",
        "         side = -1\n",
        "      elif fa * fr > 0 :\n",
        "         # f(r) and f(a) have same sign, copy r to a\n",
        "         a = r\n",
        "         fa = fr\n",
        "         if side == 1:\n",
        "            fb = fb / 2\n",
        "         side = 1\n",
        "      else :\n",
        "         # f(r) * f_ very small (looks like zero)\n",
        "         break\n",
        "\n",
        "      print(f\"The error is {interval}, the iteration round#{n}.\")\n",
        "      print(f\"The lower boundary is {a} and the upper boundary is {b}, and line length is {r}.\")\n",
        "      print(\"------------------------------------------------------------\")\n",
        "\n",
        "      if n_max <= n:\n",
        "        print(\"Out of iteration limit!\")\n",
        "        exit()\n",
        "\n",
        "      if abs(f(r)) <= tol:\n",
        "        print(\"tolerance is out of limit!\")\n",
        "        exit()\n",
        "\n",
        "      n = n + 1\n",
        "\n",
        "    return r\n"
      ],
      "execution_count": null,
      "outputs": []
    },
    {
      "cell_type": "code",
      "metadata": {
        "colab": {
          "base_uri": "https://localhost:8080/"
        },
        "id": "TxIFF-QxsMrJ",
        "outputId": "01bd35ce-f987-4bf9-b8d0-3f4e13291f16"
      },
      "source": [
        "try:\n",
        "    t = regular_falsi(\"(x**3)+(3*x)+(-5)\", 1, 2, 0.001, 50)\n",
        "    print(f\"the root of a polynomial = {t}\")\n",
        "except NameError:\n",
        "    print(\"An exception occurred\")"
      ],
      "execution_count": null,
      "outputs": [
        {
          "output_type": "stream",
          "name": "stdout",
          "text": [
            "The error is 1, the iteration round#1.\n",
            "The lower boundary is 1.1 and the upper boundary is 2, and line length is 1.1.\n",
            "------------------------------------------------------------\n",
            "The error is 1, the iteration round#2.\n",
            "The lower boundary is 1.1354466858789625 and the upper boundary is 2, and line length is 1.1354466858789625.\n",
            "------------------------------------------------------------\n",
            "The error is 1, the iteration round#3.\n",
            "The lower boundary is 1.1354466858789625 and the upper boundary is 1.1596846652309019, and line length is 1.1596846652309019.\n",
            "------------------------------------------------------------\n",
            "The error is 1, the iteration round#4.\n",
            "The lower boundary is 1.136126203999441 and the upper boundary is 1.1596846652309019, and line length is 1.136126203999441.\n",
            "------------------------------------------------------------\n",
            "The error is 1, the iteration round#5.\n",
            "The lower boundary is 1.1367635598707357 and the upper boundary is 1.1596846652309019, and line length is 1.1367635598707357.\n",
            "------------------------------------------------------------\n",
            "The error is 1, the iteration round#6.\n",
            "The lower boundary is 1.1379309857206343 and the upper boundary is 1.1596846652309019, and line length is 1.1379309857206343.\n",
            "------------------------------------------------------------\n",
            "The error is 1, the iteration round#7.\n",
            "The lower boundary is 1.1399120295393823 and the upper boundary is 1.1596846652309019, and line length is 1.1399120295393823.\n",
            "------------------------------------------------------------\n",
            "The error is 1, the iteration round#8.\n",
            "The lower boundary is 1.142872797184456 and the upper boundary is 1.1596846652309019, and line length is 1.142872797184456.\n",
            "------------------------------------------------------------\n",
            "The error is 1, the iteration round#9.\n",
            "The lower boundary is 1.146545243320974 and the upper boundary is 1.1596846652309019, and line length is 1.146545243320974.\n",
            "------------------------------------------------------------\n",
            "The error is 1, the iteration round#10.\n",
            "The lower boundary is 1.1501494586234275 and the upper boundary is 1.1596846652309019, and line length is 1.1501494586234275.\n",
            "------------------------------------------------------------\n",
            "The error is 1, the iteration round#11.\n",
            "The lower boundary is 1.1528709356299416 and the upper boundary is 1.1596846652309019, and line length is 1.1528709356299416.\n",
            "------------------------------------------------------------\n",
            "tolerance is out of limit!\n",
            "The error is 1, the iteration round#12.\n",
            "The lower boundary is 1.1528709356299416 and the upper boundary is 1.1542711593255046, and line length is 1.1542711593255046.\n",
            "------------------------------------------------------------\n",
            "the root of a polynomial = 1.1531586820643378\n"
          ]
        }
      ]
    }
  ]
}